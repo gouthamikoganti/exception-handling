{
 "cells": [
  {
   "cell_type": "code",
   "execution_count": 1,
   "metadata": {},
   "outputs": [
    {
     "name": "stdout",
     "output_type": "stream",
     "text": [
      "division by zero error\n"
     ]
    }
   ],
   "source": [
    "#Write a function to compute 5/0 and use try/except to catch the exceptions\n",
    "def handleexception(number):\n",
    "  try:\n",
    "    number/0\n",
    "  except:\n",
    "    print(\"division by zero error\")\n",
    "handleexception(5)"
   ]
  },
  {
   "cell_type": "code",
   "execution_count": 2,
   "metadata": {},
   "outputs": [
    {
     "name": "stdout",
     "output_type": "stream",
     "text": [
      "Americans Play Basketball\n",
      "Americans Play cricket\n",
      "Americans watch Basketball\n",
      "Americans watch cricket\n",
      "Indians Play Basketball\n",
      "Indians Play cricket\n",
      "Indians watch Basketball\n",
      "Indians watch cricket\n"
     ]
    }
   ],
   "source": [
    "#Implement a Python program to generate all sentences where subject is in[\"Americans\", \"Indians\"] and verb is in [\"Play\", \"watch\"] and the object is in [\"Baseball\",\"cricket\"].\n",
    "subject=[\"Americans\",\"Indians\"]\n",
    "verb=[\"Play\",\"watch\"]\n",
    "objects=[\"Basketball\",\"cricket\"]\n",
    "for i in subject:\n",
    "  for j in verb:\n",
    "    for  k in objects:\n",
    "      print(i,j,k)\n"
   ]
  },
  {
   "cell_type": "code",
   "execution_count": null,
   "metadata": {},
   "outputs": [],
   "source": []
  }
 ],
 "metadata": {
  "kernelspec": {
   "display_name": "Python 3",
   "language": "python",
   "name": "python3"
  },
  "language_info": {
   "codemirror_mode": {
    "name": "ipython",
    "version": 3
   },
   "file_extension": ".py",
   "mimetype": "text/x-python",
   "name": "python",
   "nbconvert_exporter": "python",
   "pygments_lexer": "ipython3",
   "version": "3.8.3"
  }
 },
 "nbformat": 4,
 "nbformat_minor": 4
}
